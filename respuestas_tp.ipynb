{
 "cells": [
  {
   "cell_type": "markdown",
   "metadata": {},
   "source": [
    "\n",
    "<h1><center>CALL CENTER</center></h1>\n"
   ]
  },
  {
   "cell_type": "markdown",
   "metadata": {},
   "source": [
    "<h2>¿Cuál es el nivel de servicio para los clientes Prioritarios?</h2>\n",
    "\n",
    "<p>Los clientes prioritarios tienen un nuvel de servicio superior al contar con beneficios extra como:\n",
    "<ul>\n",
    "<li>tiempo limite en espera de 1:30 minutos</li>\n",
    "<li>Membresia bonificada</li>\n",
    "<li>Menos propencion a proseguir al tipo de servicio TT (agente ocupado y vuelve a la espera)</li>\n",
    "</ul>\n",
    "\n",
    "</p>\n"
   ]
  },
  {
   "cell_type": "markdown",
   "metadata": {},
   "source": [
    "<h2>¿Damos un mejor servicio que a los clientes normales?</h2>\n",
    "\n",
    "<p>A los clientes regulares se les brinda un serivicio similar al prioritario, podemos agregar que el promedio de tiempo de espera es de 45 segundos, lo que indica una clara diferencia de 35 segundos con respecto al promedio de tiempo de espera de los clientes en la categoria de alta prioridad que cuentan con un promedio de 80 segundos</p>\n",
    "<p>Otro dato a agregar es que los clientes regulares tienen un 8% mas de probabilidades de respuestas HANG (corte de llamada sin recibir servicio)</p>\n"
   ]
  },
  {
   "cell_type": "markdown",
   "metadata": {},
   "source": [
    "<h1>¿Qué volumen de llamadas atendemos?</h1>\n",
    "<p>Por dia podemos decir que tenemos un promedio de 222 llamadas por dia, aumentando su flujo de ingreso a partir de las 9 AM</p>"
   ]
  },
  {
   "cell_type": "markdown",
   "metadata": {},
   "source": [
    "<h1>¿Cuáles son los cuellos de botella? ¿En qué días? ¿En qué bandas horarias?</h1>\n",
    "<p>Los cuellos de botella se producen evaluando los valores de la documentacion los dias martes, y tocan su pico mas alto a las 10:00 AM, luego disminuyen y vuelven a subir a las 15:00 PM, para ir en baja hasta terminar la jornada.</p>\n",
    "<p>Dedusco que los cuellos de botella son los horarios y dias en los que el tiempo de espera es mayor al promedio normal.</p>"
   ]
  },
  {
   "cell_type": "markdown",
   "metadata": {},
   "source": [
    "<h1>¿Cómo es la eficiencia y productividad de nuestros agentes?</h1>\n",
    "<p>En los registros de este anio en particular podemos decir que la eficiencia de nuestro agentes es buena, por que lograron un promedio de espera en llamadas de los clientes inferior al estipulado en los clientes de Alta prioridad (90 segundos), sin importar su categoria.</p>\n",
    "<p>Luego cuando hablamos de productividad, podriamos realizar algunas recomendaciones al momento de atender a los clientes regulares, ya que ellos tienen un porcentaje mayor de  llamadas HANG, en comparacion con los clientes de alta prioridad, lo que nos indica que los clientes regulares por procentaje tienen una probabilidad mayor a quedar insatisfechos o no terminar de recibir el servicio.</p>"
   ]
  },
  {
   "cell_type": "markdown",
   "metadata": {},
   "source": [
    "<h1>¿Hay clientes recurrentes en el uso del servicio?</h1>\n",
    "<p>Si tenemos clientes recurrentes, en el top 10 podemos identificar que son clientes de Alta prioridad.</p>"
   ]
  },
  {
   "cell_type": "markdown",
   "metadata": {},
   "source": [
    "<h1>¿Cuáles son los tipos de servicio más recurrentes?</h1>\n",
    "<ol>Los tipos de servicios mas recurrentes son:\n",
    "<li>PS - Actividad Regular (65,8%)</li>\n",
    "<li>NE - Actividad por Acciones (13%)</li>\n",
    "<li>NW - Cliente potencial(10,7%)</li>\n",
    "<li>IN - Actividad / Consulta por internet(8,3%)</li>\n",
    "</ol>\n",
    "<p>Este resultado nos da tomando solo el top 4, ya que el resto se vuelven irrelevantes por su poco porcentaje de participacion</p>"
   ]
  },
  {
   "cell_type": "markdown",
   "metadata": {},
   "source": [
    "<h1>¿Podemos estimar la dotación necesaria para cumplir con una calidad de servicio determinada? Ejemplo: si quiero que mi tiempo promedio de espera sea menor a 60 segundos?</h1>\n",
    "\n",
    "<p>Si, podemos estimar que para mejorar el tiempo promedio de espera a un promedio de 60 segundos, debemos integrar 2 agentes para llamadas de clientes y prospectos.</p>\n",
    "<p>Esto se basa en una estimación simple de cómo más empleados pueden reducir el tiempo de espera al atender más llamadas, ya que por promedio tenemos 6 clientes en cola con un promedio de 80 segundos de espera, contando con 8 trabajadores, si aumentamos el numero de trabajadores a 10, el tiempo de espera baja considerablemente al tener mas opciones en simultaneo para atencion al publico, de esta manera estimamos que el tiempo de espera resultante sera de 60 segundos</p>"
   ]
  }
 ],
 "metadata": {
  "language_info": {
   "name": "python"
  }
 },
 "nbformat": 4,
 "nbformat_minor": 2
}
